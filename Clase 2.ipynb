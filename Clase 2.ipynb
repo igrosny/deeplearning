{
 "cells": [
  {
   "cell_type": "markdown",
   "metadata": {},
   "source": [
    "# Variables aleatorias\n",
    "\n",
    "## Distribucion de Bernoulli (Binomial)\n",
    "\n",
    "Es la distribucion discreta de probabilidades de una variable aleatoria que toma valor 1 con prabilidad $p$ y valor 0 con probabilidad $q=1-p$\n",
    "\n",
    "\n"
   ]
  },
  {
   "cell_type": "code",
   "execution_count": 121,
   "metadata": {},
   "outputs": [],
   "source": [
    "# Importo la libreria numpy\n",
    "import numpy as np"
   ]
  },
  {
   "cell_type": "code",
   "execution_count": 137,
   "metadata": {},
   "outputs": [],
   "source": [
    "# Genero un arreglo de 500 resultados que pueden ser 0\n",
    "# o 1 con las probabilidades respectivas 0.3 y 0.7\n",
    "\n",
    "bernoulli = np.random.choice([0,1], 500, p=[0.3, 0.7])\n",
    "\n",
    "# Cuento las cantidad de unos que tengo la variable \n",
    "unos = (bernoulli == 1).sum()\n",
    "\n",
    "# cuento la cantidad de ceros que tengo en la variable bernoulli\n",
    "ceros = (bernoulli == 0).sum()\n",
    "\n",
    "# Obtengo la cantidad total de elementos del arreglo\n",
    "cantidad = len(bernoulli)"
   ]
  },
  {
   "cell_type": "markdown",
   "metadata": {},
   "source": [
    "Para el calculo de la probabilidad frecuencial de esta distribuicion tengo que dividir los casos favorables por los casos totales\n",
    "\n",
    "$$ p = casos favorables/casos totales $$\n"
   ]
  },
  {
   "cell_type": "code",
   "execution_count": 138,
   "metadata": {},
   "outputs": [
    {
     "name": "stdout",
     "output_type": "stream",
     "text": [
      "La probabilidad de que sea 1 es 0.696 y la prograbilidad que sea 0 es 0.304\n"
     ]
    }
   ],
   "source": [
    "p_1 = unos/cantidad\n",
    "p_0 = ceros/cantidad\n",
    "\n",
    "print(\"La probabilidad de que sea 1 es {} y la prograbilidad que sea 0 es {}\".format(p_1, p_0))"
   ]
  },
  {
   "cell_type": "markdown",
   "metadata": {},
   "source": [
    "### Momentos de una variable aleatoria binomial\n",
    "\n",
    "Media: \n",
    "$$E\\{X\\} = \\mu_X = \\sum_{i=1}^N{X_iP(X_i=i)}$$\n",
    "\n",
    "Varianza\n",
    "$$E\\{(X-\\mu_x)^2\\} = \\sigma_X^2 = \\sum_{i=1}^N{(X_i-\\mu_X)^2P(X_i=i)}$$"
   ]
  },
  {
   "cell_type": "code",
   "execution_count": 141,
   "metadata": {},
   "outputs": [
    {
     "data": {
      "text/plain": [
       "0.696"
      ]
     },
     "execution_count": 141,
     "metadata": {},
     "output_type": "execute_result"
    }
   ],
   "source": [
    "# Creamos la funcion de la media\n",
    "\n",
    "def media(X):\n",
    "    suma = 0\n",
    "    for i in X:\n",
    "        suma = i + suma\n",
    "    media = suma / len(X)\n",
    "    return media\n",
    "\n",
    "media(bernoulli)"
   ]
  },
  {
   "cell_type": "code",
   "execution_count": 147,
   "metadata": {},
   "outputs": [
    {
     "data": {
      "text/plain": [
       "0.21158399999999983"
      ]
     },
     "execution_count": 147,
     "metadata": {},
     "output_type": "execute_result"
    }
   ],
   "source": [
    "# Creamos ahora la funcion de la varianza\n",
    "\n",
    "def varianza(X):\n",
    "    u = media(X)\n",
    "    suma = 0\n",
    "    \n",
    "    for i in X:\n",
    "        suma = suma + (i - u)**2\n",
    "    \n",
    "    varianza = suma / len(X)\n",
    "    \n",
    "    return varianza\n",
    "\n",
    "varianza(bernoulli)"
   ]
  },
  {
   "cell_type": "markdown",
   "metadata": {},
   "source": [
    "### Entropia\n",
    "\n",
    "Se interpreta como medida de desorden o la peculiaridad de ciertas combinaciones\n",
    "\n",
    "\n",
    "$$S = -\\sum_{i=1}^N{P_ilog(P_i)}$$\n",
    "\n",
    "A menor entropia menos \"desorden hay\". Una moneda con probabilidad 0.5 tiene una entropia de 1, porque nada me puede decir cual es la probabilidad."
   ]
  },
  {
   "cell_type": "code",
   "execution_count": 149,
   "metadata": {},
   "outputs": [
    {
     "data": {
      "text/plain": [
       "0.8812908992306927"
      ]
     },
     "execution_count": 149,
     "metadata": {},
     "output_type": "execute_result"
    }
   ],
   "source": [
    "# Para usar la funcion log en base 2 necesitamos importa la libreria math\n",
    "import math\n",
    "\n",
    "# Calculo de funcion de entropia\n",
    "\n",
    "def entropia(P):\n",
    "    suma = 0\n",
    "    for i in P:\n",
    "        suma = suma + (i * math.log(i, 2))\n",
    "        \n",
    "    return -suma\n",
    "\n",
    "entropia([0.3, 0.7])"
   ]
  },
  {
   "cell_type": "markdown",
   "metadata": {},
   "source": [
    "## Variable aleatoria uniforme\n",
    "\n",
    "El ejemplo es de tirar un dado. (Discreta) Es una distribucion de probabilidades que asume un numero finito de valores todos con la misma probabilidad.\n",
    "\n",
    "$P(X = x_i) = \\frac{1}{N}$\n",
    "\n",
    "El calculo de de la media es\n",
    "\n",
    "$ \\mu_x = \\frac{a + b}{2}$\n",
    "\n",
    "El calculo de la varianza es\n",
    "\n",
    "$\\sigma^2_x = \\frac{(b - a + 1)^2 - 1}{12}$"
   ]
  },
  {
   "cell_type": "markdown",
   "metadata": {},
   "source": [
    "## Variable Aleatoria Categorica\n"
   ]
  }
 ],
 "metadata": {
  "kernelspec": {
   "display_name": "Python 3",
   "language": "python",
   "name": "python3"
  },
  "language_info": {
   "codemirror_mode": {
    "name": "ipython",
    "version": 3
   },
   "file_extension": ".py",
   "mimetype": "text/x-python",
   "name": "python",
   "nbconvert_exporter": "python",
   "pygments_lexer": "ipython3",
   "version": "3.7.1"
  }
 },
 "nbformat": 4,
 "nbformat_minor": 2
}
